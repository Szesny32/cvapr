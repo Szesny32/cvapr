{
 "cells": [
  {
   "cell_type": "code",
   "execution_count": 1,
   "metadata": {
    "collapsed": true,
    "ExecuteTime": {
     "end_time": "2023-06-24T09:54:43.518812600Z",
     "start_time": "2023-06-24T09:54:37.443506300Z"
    }
   },
   "outputs": [
    {
     "name": "stderr",
     "output_type": "stream",
     "text": [
      "c:\\users\\kbklo\\documents\\github\\cvapr\\venv\\lib\\site-packages\\umap\\distances.py:1063: NumbaDeprecationWarning: \u001B[1mThe 'nopython' keyword argument was not supplied to the 'numba.jit' decorator. The implicit default value for this argument is currently False, but it will be changed to True in Numba 0.59.0. See https://numba.readthedocs.io/en/stable/reference/deprecation.html#deprecation-of-object-mode-fall-back-behaviour-when-using-jit for details.\u001B[0m\n",
      "  @numba.jit()\n",
      "c:\\users\\kbklo\\documents\\github\\cvapr\\venv\\lib\\site-packages\\umap\\distances.py:1071: NumbaDeprecationWarning: \u001B[1mThe 'nopython' keyword argument was not supplied to the 'numba.jit' decorator. The implicit default value for this argument is currently False, but it will be changed to True in Numba 0.59.0. See https://numba.readthedocs.io/en/stable/reference/deprecation.html#deprecation-of-object-mode-fall-back-behaviour-when-using-jit for details.\u001B[0m\n",
      "  @numba.jit()\n",
      "c:\\users\\kbklo\\documents\\github\\cvapr\\venv\\lib\\site-packages\\umap\\distances.py:1086: NumbaDeprecationWarning: \u001B[1mThe 'nopython' keyword argument was not supplied to the 'numba.jit' decorator. The implicit default value for this argument is currently False, but it will be changed to True in Numba 0.59.0. See https://numba.readthedocs.io/en/stable/reference/deprecation.html#deprecation-of-object-mode-fall-back-behaviour-when-using-jit for details.\u001B[0m\n",
      "  @numba.jit()\n",
      "c:\\users\\kbklo\\documents\\github\\cvapr\\venv\\lib\\site-packages\\umap\\umap_.py:660: NumbaDeprecationWarning: \u001B[1mThe 'nopython' keyword argument was not supplied to the 'numba.jit' decorator. The implicit default value for this argument is currently False, but it will be changed to True in Numba 0.59.0. See https://numba.readthedocs.io/en/stable/reference/deprecation.html#deprecation-of-object-mode-fall-back-behaviour-when-using-jit for details.\u001B[0m\n",
      "  @numba.jit()\n"
     ]
    }
   ],
   "source": [
    "## Imports\n",
    "import pandas as pd\n",
    "import numpy as np\n",
    "import matplotlib.pyplot as plt\n",
    "import datetime\n",
    "import os\n",
    "import sys\n",
    "from umap import UMAP\n",
    "import json\n",
    "from pathlib import Path\n",
    "from typing import List, Tuple, Dict\n",
    "from sklearn.preprocessing import StandardScaler, Normalizer, MinMaxScaler, MaxAbsScaler, QuantileTransformer\n",
    "from sklearn.model_selection import train_test_split, cross_validate, StratifiedKFold\n",
    "from sklearn.metrics import log_loss, confusion_matrix, ConfusionMatrixDisplay\n",
    "from sklearn.linear_model import LogisticRegression\n",
    "from sklearn.metrics import classification_report\n",
    "from sklearn.pipeline import Pipeline\n",
    "from sklearn.decomposition import PCA\n",
    "from sklearn.model_selection import GridSearchCV\n",
    "from sklearn.ensemble import RandomForestClassifier\n",
    "from sklearn.svm import SVC\n",
    "from collections import OrderedDict\n",
    "from sklearn import set_config\n",
    "# import seaborn as sns\n",
    "from Plotter import *\n",
    "import Scores\n",
    "\n",
    "from Searchers import *"
   ]
  },
  {
   "cell_type": "code",
   "execution_count": 3,
   "outputs": [],
   "source": [
    "from MainFinal import *"
   ],
   "metadata": {
    "collapsed": false,
    "ExecuteTime": {
     "end_time": "2023-06-24T09:56:43.147129900Z",
     "start_time": "2023-06-24T09:56:43.124157700Z"
    }
   }
  },
  {
   "cell_type": "code",
   "execution_count": 6,
   "outputs": [
    {
     "name": "stdout",
     "output_type": "stream",
     "text": [
      "Index(['backers_count', 'blurb', 'category', 'country', 'created_at',\n",
      "       'deadline', 'goal', 'launched_at', 'name', 'staff_pick', 'state',\n",
      "       'usd_pledged'],\n",
      "      dtype='object')\n"
     ]
    }
   ],
   "source": [
    "# Load Data\n",
    "predictor = KickstartedPredict(\n",
    "    data_folder_path=r\"%s\\Data\" % os.getcwd(),\n",
    "    num_of_files_to_load=10,\n",
    ")\n",
    "predictor.load_data()\n"
   ],
   "metadata": {
    "collapsed": false,
    "ExecuteTime": {
     "end_time": "2023-06-24T09:57:48.956430100Z",
     "start_time": "2023-06-24T09:57:47.495028200Z"
    }
   }
  },
  {
   "cell_type": "code",
   "execution_count": 8,
   "outputs": [
    {
     "name": "stderr",
     "output_type": "stream",
     "text": [
      "C:\\Users\\kbklo\\Documents\\GitHub\\cvapr\\MainFinal.py:102: SettingWithCopyWarning: \n",
      "A value is trying to be set on a copy of a slice from a DataFrame.\n",
      "Try using .loc[row_indexer,col_indexer] = value instead\n",
      "\n",
      "See the caveats in the documentation: https://pandas.pydata.org/pandas-docs/stable/user_guide/indexing.html#returning-a-view-versus-a-copy\n",
      "  self.df['state'] = self.df['state'].replace({'failed': 0, 'successful': 1})\n",
      "C:\\Users\\kbklo\\Documents\\GitHub\\cvapr\\MainFinal.py:104: SettingWithCopyWarning: \n",
      "A value is trying to be set on a copy of a slice from a DataFrame.\n",
      "Try using .loc[row_indexer,col_indexer] = value instead\n",
      "\n",
      "See the caveats in the documentation: https://pandas.pydata.org/pandas-docs/stable/user_guide/indexing.html#returning-a-view-versus-a-copy\n",
      "  self.df['staff_pick'] = self.df['staff_pick'].replace({False: 0, True: 1})\n",
      "C:\\Users\\kbklo\\Documents\\GitHub\\cvapr\\MainFinal.py:106: SettingWithCopyWarning: \n",
      "A value is trying to be set on a copy of a slice from a DataFrame.\n",
      "Try using .loc[row_indexer,col_indexer] = value instead\n",
      "\n",
      "See the caveats in the documentation: https://pandas.pydata.org/pandas-docs/stable/user_guide/indexing.html#returning-a-view-versus-a-copy\n",
      "  self.df['deadline'] = pd.to_datetime(self.df['deadline'], unit='s')\n",
      "C:\\Users\\kbklo\\Documents\\GitHub\\cvapr\\MainFinal.py:108: SettingWithCopyWarning: \n",
      "A value is trying to be set on a copy of a slice from a DataFrame.\n",
      "Try using .loc[row_indexer,col_indexer] = value instead\n",
      "\n",
      "See the caveats in the documentation: https://pandas.pydata.org/pandas-docs/stable/user_guide/indexing.html#returning-a-view-versus-a-copy\n",
      "  self.df['launched_at'] = pd.to_datetime(self.df['launched_at'], unit='s')\n",
      "C:\\Users\\kbklo\\Documents\\GitHub\\cvapr\\MainFinal.py:109: SettingWithCopyWarning: \n",
      "A value is trying to be set on a copy of a slice from a DataFrame.\n",
      "Try using .loc[row_indexer,col_indexer] = value instead\n",
      "\n",
      "See the caveats in the documentation: https://pandas.pydata.org/pandas-docs/stable/user_guide/indexing.html#returning-a-view-versus-a-copy\n",
      "  self.df['launched_month'] = pd.to_datetime(self.df['launched_at'], unit='s').dt.month\n",
      "C:\\Users\\kbklo\\Documents\\GitHub\\cvapr\\MainFinal.py:111: SettingWithCopyWarning: \n",
      "A value is trying to be set on a copy of a slice from a DataFrame.\n",
      "Try using .loc[row_indexer,col_indexer] = value instead\n",
      "\n",
      "See the caveats in the documentation: https://pandas.pydata.org/pandas-docs/stable/user_guide/indexing.html#returning-a-view-versus-a-copy\n",
      "  self.df['launch_duration'] = (self.df['deadline'] - self.df['launched_at']).dt.days\n",
      "C:\\Users\\kbklo\\Documents\\GitHub\\cvapr\\MainFinal.py:113: SettingWithCopyWarning: \n",
      "A value is trying to be set on a copy of a slice from a DataFrame.\n",
      "Try using .loc[row_indexer,col_indexer] = value instead\n",
      "\n",
      "See the caveats in the documentation: https://pandas.pydata.org/pandas-docs/stable/user_guide/indexing.html#returning-a-view-versus-a-copy\n",
      "  self.df['created_at'] = pd.to_datetime(self.df['created_at'], unit='s')\n",
      "C:\\Users\\kbklo\\Documents\\GitHub\\cvapr\\MainFinal.py:114: SettingWithCopyWarning: \n",
      "A value is trying to be set on a copy of a slice from a DataFrame.\n",
      "Try using .loc[row_indexer,col_indexer] = value instead\n",
      "\n",
      "See the caveats in the documentation: https://pandas.pydata.org/pandas-docs/stable/user_guide/indexing.html#returning-a-view-versus-a-copy\n",
      "  self.df['created_duration'] = (self.df['deadline'] - self.df['created_at']).dt.days\n",
      "C:\\Users\\kbklo\\Documents\\GitHub\\cvapr\\MainFinal.py:116: SettingWithCopyWarning: \n",
      "A value is trying to be set on a copy of a slice from a DataFrame\n",
      "\n",
      "See the caveats in the documentation: https://pandas.pydata.org/pandas-docs/stable/user_guide/indexing.html#returning-a-view-versus-a-copy\n",
      "  self.df.drop('deadline', axis=1, inplace=True)\n",
      "C:\\Users\\kbklo\\Documents\\GitHub\\cvapr\\MainFinal.py:117: SettingWithCopyWarning: \n",
      "A value is trying to be set on a copy of a slice from a DataFrame\n",
      "\n",
      "See the caveats in the documentation: https://pandas.pydata.org/pandas-docs/stable/user_guide/indexing.html#returning-a-view-versus-a-copy\n",
      "  self.df.drop('launched_at', axis=1, inplace=True)\n",
      "C:\\Users\\kbklo\\Documents\\GitHub\\cvapr\\MainFinal.py:118: SettingWithCopyWarning: \n",
      "A value is trying to be set on a copy of a slice from a DataFrame\n",
      "\n",
      "See the caveats in the documentation: https://pandas.pydata.org/pandas-docs/stable/user_guide/indexing.html#returning-a-view-versus-a-copy\n",
      "  self.df.drop('created_at', axis=1, inplace=True)\n",
      "C:\\Users\\kbklo\\Documents\\GitHub\\cvapr\\MainFinal.py:119: SettingWithCopyWarning: \n",
      "A value is trying to be set on a copy of a slice from a DataFrame\n",
      "\n",
      "See the caveats in the documentation: https://pandas.pydata.org/pandas-docs/stable/user_guide/indexing.html#returning-a-view-versus-a-copy\n",
      "  self.df.drop('backers_count', axis=1, inplace=True)\n",
      "C:\\Users\\kbklo\\Documents\\GitHub\\cvapr\\MainFinal.py:120: SettingWithCopyWarning: \n",
      "A value is trying to be set on a copy of a slice from a DataFrame\n",
      "\n",
      "See the caveats in the documentation: https://pandas.pydata.org/pandas-docs/stable/user_guide/indexing.html#returning-a-view-versus-a-copy\n",
      "  self.df.drop('usd_pledged', axis=1, inplace=True)\n",
      "C:\\Users\\kbklo\\Documents\\GitHub\\cvapr\\MainFinal.py:122: SettingWithCopyWarning: \n",
      "A value is trying to be set on a copy of a slice from a DataFrame.\n",
      "Try using .loc[row_indexer,col_indexer] = value instead\n",
      "\n",
      "See the caveats in the documentation: https://pandas.pydata.org/pandas-docs/stable/user_guide/indexing.html#returning-a-view-versus-a-copy\n",
      "  self.df['name_word_len'] = self.df['name'].str.split().str.len()\n",
      "C:\\Users\\kbklo\\Documents\\GitHub\\cvapr\\MainFinal.py:124: SettingWithCopyWarning: \n",
      "A value is trying to be set on a copy of a slice from a DataFrame\n",
      "\n",
      "See the caveats in the documentation: https://pandas.pydata.org/pandas-docs/stable/user_guide/indexing.html#returning-a-view-versus-a-copy\n",
      "  self.df.drop('name', axis=1, inplace=True)\n",
      "C:\\Users\\kbklo\\Documents\\GitHub\\cvapr\\MainFinal.py:126: SettingWithCopyWarning: \n",
      "A value is trying to be set on a copy of a slice from a DataFrame.\n",
      "Try using .loc[row_indexer,col_indexer] = value instead\n",
      "\n",
      "See the caveats in the documentation: https://pandas.pydata.org/pandas-docs/stable/user_guide/indexing.html#returning-a-view-versus-a-copy\n",
      "  self.df['blurb_word_len'] = self.df['blurb'].str.split().str.len()\n",
      "C:\\Users\\kbklo\\Documents\\GitHub\\cvapr\\MainFinal.py:128: SettingWithCopyWarning: \n",
      "A value is trying to be set on a copy of a slice from a DataFrame\n",
      "\n",
      "See the caveats in the documentation: https://pandas.pydata.org/pandas-docs/stable/user_guide/indexing.html#returning-a-view-versus-a-copy\n",
      "  self.df.drop('blurb', axis=1, inplace=True)\n",
      "C:\\Users\\kbklo\\Documents\\GitHub\\cvapr\\MainFinal.py:134: SettingWithCopyWarning: \n",
      "A value is trying to be set on a copy of a slice from a DataFrame.\n",
      "Try using .loc[row_indexer,col_indexer] = value instead\n",
      "\n",
      "See the caveats in the documentation: https://pandas.pydata.org/pandas-docs/stable/user_guide/indexing.html#returning-a-view-versus-a-copy\n",
      "  self.df['category'] = self.df.apply(f, axis=1)\n",
      "C:\\Users\\kbklo\\Documents\\GitHub\\cvapr\\MainFinal.py:137: SettingWithCopyWarning: \n",
      "A value is trying to be set on a copy of a slice from a DataFrame.\n",
      "Try using .loc[row_indexer,col_indexer] = value instead\n",
      "\n",
      "See the caveats in the documentation: https://pandas.pydata.org/pandas-docs/stable/user_guide/indexing.html#returning-a-view-versus-a-copy\n",
      "  self.df['category'] = self.df.apply(f, axis=1)\n"
     ]
    },
    {
     "name": "stdout",
     "output_type": "stream",
     "text": [
      "Index(['goal', 'staff_pick', 'state', 'launched_month', 'launch_duration',\n",
      "       'created_duration', 'name_word_len', 'blurb_word_len',\n",
      "       'category_comics', 'category_crafts', 'category_dance',\n",
      "       'category_design', 'category_fashion', 'category_film & video',\n",
      "       'category_food', 'category_games', 'category_journalism',\n",
      "       'category_music', 'category_photography', 'category_publishing',\n",
      "       'category_technology', 'category_theater', 'country_AU', 'country_BE',\n",
      "       'country_CA', 'country_CH', 'country_DE', 'country_DK', 'country_ES',\n",
      "       'country_FR', 'country_GB', 'country_GR', 'country_HK', 'country_IE',\n",
      "       'country_IT', 'country_JP', 'country_LU', 'country_MX', 'country_NL',\n",
      "       'country_NO', 'country_NZ', 'country_PL', 'country_SE', 'country_SG',\n",
      "       'country_US'],\n",
      "      dtype='object')\n"
     ]
    }
   ],
   "source": [
    "# Prepare data\n",
    "predictor.prepare_data()"
   ],
   "metadata": {
    "collapsed": false,
    "ExecuteTime": {
     "end_time": "2023-06-24T09:58:50.562622900Z",
     "start_time": "2023-06-24T09:58:49.914367400Z"
    }
   }
  },
  {
   "cell_type": "code",
   "execution_count": null,
   "outputs": [],
   "source": [],
   "metadata": {
    "collapsed": false
   }
  }
 ],
 "metadata": {
  "kernelspec": {
   "display_name": "Python 3",
   "language": "python",
   "name": "python3"
  },
  "language_info": {
   "codemirror_mode": {
    "name": "ipython",
    "version": 2
   },
   "file_extension": ".py",
   "mimetype": "text/x-python",
   "name": "python",
   "nbconvert_exporter": "python",
   "pygments_lexer": "ipython2",
   "version": "2.7.6"
  }
 },
 "nbformat": 4,
 "nbformat_minor": 0
}
